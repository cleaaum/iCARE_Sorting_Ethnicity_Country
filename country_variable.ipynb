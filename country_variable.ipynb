{
 "cells": [
  {
   "cell_type": "code",
   "execution_count": null,
   "id": "7a028235",
   "metadata": {
    "pycharm": {
     "is_executing": false
    }
   },
   "outputs": [],
   "source": [
    "# Importing necessary libraries. You will  most likely need to install: JUPYTER, PANDAS, ISO3166\n",
    "import pandas as pd\n",
    "import numpy as np\n",
    "from dictionaries.country_dictionary import country_dictionary\n",
    "from dictionaries.iso_mapping import ISO_mapping\n",
    "from dictionaries.sub_continents_dictionary import sub_continents_dictionary\n",
    "from dictionaries.continents_dictionary import continents_dictionary\n",
    "from dictionaries.country_avg_income import income_dictionary\n",
    "from iso3166 import countries\n",
    "import unicodedata\n",
    "from collections import defaultdict\n",
    "import re\n",
    "pd.set_option(\"display.max_rows\", 500)"
   ]
  },
  {
   "cell_type": "code",
   "execution_count": null,
   "id": "2ec1dc85",
   "metadata": {
    "pycharm": {
     "is_executing": false
    },
    "scrolled": true
   },
   "outputs": [],
   "source": [
    "#loading data into a dataframe (a type of data structure)\n",
    "#if you get errors, make sure the file is a csv, try changing the \"sep=\" to a comma \",\".\n",
    "df_country = pd.read_csv('country_data.csv', sep=';')"
   ]
  },
  {
   "cell_type": "code",
   "execution_count": null,
   "id": "2b746b69",
   "metadata": {
    "pycharm": {
     "is_executing": false
    }
   },
   "outputs": [],
   "source": [
    "# Method to normalize the data detected. This means first capitalizing the string and removing all punctuation. \n",
    "# However we have to be careful here. Blindly removing punctuation will remove ALL special characters, including \n",
    "# chinese characters, arab scripts etc. Regular accents tend to have an ascii number lower than 900, so this \n",
    "#differentiates accents from different writings/scripts.\n",
    "def normalize_data(country):\n",
    "#     if type(country) is float: return # find better way to check for this\n",
    "    country_upper_case = country.upper().strip()\n",
    "    country_removed_punctuation = re.sub(\"[-|_|:|·|.|,|\\\"|\\“|\\”|/|+|(|)|?|'|’|&|)|(|?|!|*|%|·]\", \" \", country_upper_case)\n",
    "    for char in country_removed_punctuation:\n",
    "        if ord(char) < 900:\n",
    "            continue\n",
    "        else:\n",
    "            return country_removed_punctuation\n",
    "    country_removed_accents = unicodedata.normalize('NFD', country_removed_punctuation).encode('ascii', 'ignore').decode(\"utf-8\")\n",
    "    return country_removed_accents.strip()"
   ]
  },
  {
   "cell_type": "code",
   "execution_count": null,
   "id": "767f94a6",
   "metadata": {
    "pycharm": {
     "is_executing": false
    }
   },
   "outputs": [],
   "source": [
    "# Method to dynamically reverse the dictionnaries to increase run time. This is only stored in memory \n",
    "# during the run time of the program. Easier to look up a key in a dict then to loop through all the values \n",
    "def reverse_dict(dict_to_reverse):\n",
    "    reversed_dict = defaultdict(list)\n",
    "    for key, value in dict_to_reverse.items():\n",
    "        for val in value:\n",
    "            reversed_dict[val] = (key)\n",
    "        reversed_dict[key] = (key)\n",
    "    return reversed_dict\n",
    "\n",
    "# 4 dictionnaries we need (all reversed)\n",
    "country_rev = reverse_dict(country_dictionary)\n",
    "sub_continents_rev = reverse_dict(sub_continents_dictionary)\n",
    "continents_rev = reverse_dict(continents_dictionary)\n",
    "income_rev = reverse_dict(income_dictionary)"
   ]
  },
  {
   "cell_type": "code",
   "execution_count": null,
   "id": "67e015e8",
   "metadata": {},
   "outputs": [],
   "source": [
    "# Some countries get misclassified because of similar names. For example, \"republic of china\" gets classified\n",
    "# as China and not as Taiwan. Similar problem with congo & democratic republic of congo, northern ireland & ireland,\n",
    "# guinea & papua new guinea & equatorial guinea etc.\n",
    "def check_overlapping_country_names(country, key):\n",
    "    country_split = country.split()\n",
    "    if key == \"CHINA\":\n",
    "        taiwan_flags = [\"TAIWAN\", \"REPUBLIC\"]\n",
    "        if any(element in taiwan_flags for element in country_split):\n",
    "            return \"TAIWAN\"\n",
    "    if key == \"GUINEA\":\n",
    "        equatorial_guinea_flags = [\"EQUATORIAL\", \"EQUATORIAL\"]\n",
    "        papua_new_guinea_flags = [\"PAPUA\", \"NEW\"]\n",
    "        if any(element in equatorial_guinea_flags for element in country_split):\n",
    "            return \"EQUATORIAL_GUINEA\"\n",
    "        if any(element in papua_new_guinea_flags for element in country_split):\n",
    "            return \"PAPUA_NEW_GUINEA\"\n",
    "    if key == \"IRELAND\":\n",
    "        northern_ireland_flags = [\"NORTHERN\", \"NORTH\"]\n",
    "        if any(element in northern_ireland_flags for element in country_split):\n",
    "            return \"UNITED_KINGDOM\"\n",
    "    if key == \"CONGO\":\n",
    "        democratic_republic_congo_flags = [\"REPUBLIC\", \"REPUBLIQUE\", \"DEMOCRATIQUE\", \"DEMOCRATIC\"]\n",
    "        if any(element in democratic_republic_congo_flags for element in country_split):\n",
    "            return \"DEMOCRATIC_REPUBLIC_OF_CONGO\"\n",
    "    if key == \"MISSING\":\n",
    "        return None\n",
    "    return key"
   ]
  },
  {
   "cell_type": "code",
   "execution_count": null,
   "id": "b9ac4ee7",
   "metadata": {
    "pycharm": {
     "is_executing": false
    }
   },
   "outputs": [],
   "source": [
    "# Looks up country in the dictionary, returns the normalized coutnry name if found\n",
    "def find_country(country):\n",
    "    return country_rev.get(country, None)"
   ]
  },
  {
   "cell_type": "code",
   "execution_count": null,
   "id": "2ee517ba",
   "metadata": {
    "pycharm": {
     "is_executing": false
    }
   },
   "outputs": [],
   "source": [
    "# If a response has multiple words (ex: \"I am from Canada\"), this will not get detected by a simple lookup\n",
    "# so split the string into all its words and look up each word individually\n",
    "def find_country_by_value(country_normalized, country_matched):\n",
    "    if str(country_matched) != \"None\": return country_matched\n",
    "    country_split = country_normalized.split()\n",
    "    # country_split.append(str(country))\n",
    "    for elt in country_split:\n",
    "        if elt in country_rev.keys():\n",
    "            return country_rev.get(elt)"
   ]
  },
  {
   "cell_type": "code",
   "execution_count": null,
   "id": "599f6cb8",
   "metadata": {},
   "outputs": [],
   "source": [
    "# Get the ISO code for the country detected. Made my own mapping ISO_mapping (more efficient)\n",
    "def get_iso(country):\n",
    "    return ISO_mapping.get(country)"
   ]
  },
  {
   "cell_type": "code",
   "execution_count": null,
   "id": "de5be650",
   "metadata": {},
   "outputs": [],
   "source": [
    "# Get the sub continent the country is located in \n",
    "def classify_country_as_sub_continent(iso_code):\n",
    "    return sub_continents_rev.get(iso_code)"
   ]
  },
  {
   "cell_type": "code",
   "execution_count": null,
   "id": "2194c6b8",
   "metadata": {},
   "outputs": [],
   "source": [
    "# Get the continent the country is located in \n",
    "def classify_country_as_continent(iso_code):\n",
    "    return continents_rev.get(iso_code)"
   ]
  },
  {
   "cell_type": "code",
   "execution_count": null,
   "id": "fca7aa17",
   "metadata": {},
   "outputs": [],
   "source": [
    "# Get the average income of the country (scale is 1 - 4, where 1 is low and 4 is high income)\n",
    "def get_avg_income(iso):\n",
    "    return income_rev.get(iso)"
   ]
  },
  {
   "cell_type": "code",
   "execution_count": null,
   "id": "520000ae",
   "metadata": {
    "pycharm": {
     "is_executing": false
    }
   },
   "outputs": [],
   "source": [
    "# Removing null entries from the dataframe (to avoid looking up blank responses)\n",
    "df_country = df_country[~df_country['country'].isna()]"
   ]
  },
  {
   "cell_type": "code",
   "execution_count": null,
   "id": "d663baac",
   "metadata": {
    "pycharm": {
     "is_executing": false
    }
   },
   "outputs": [],
   "source": [
    "# Normalizing the responses and saving it in a new column called country_normalized\n",
    "df_country['country_normalized'] = np.vectorize(normalize_data)(df_country['country'])"
   ]
  },
  {
   "cell_type": "code",
   "execution_count": null,
   "id": "7553e083",
   "metadata": {
    "pycharm": {
     "is_executing": false
    }
   },
   "outputs": [],
   "source": [
    "# First attempt to try and match the response by using the whole response, \n",
    "# saving it in column country_matched_by_key\n",
    "df_country['country_matched_by_key'] = np.vectorize(find_country)(df_country['country_normalized'])"
   ]
  },
  {
   "cell_type": "code",
   "execution_count": null,
   "id": "550ea9ed",
   "metadata": {
    "pycharm": {
     "is_executing": false
    }
   },
   "outputs": [],
   "source": [
    "# Second attempt to try and match the response by splitting the response, and looking up each individual word \n",
    "# saving it in column country_matched_by_value\n",
    "df_country['country_matched_value'] = np.vectorize(find_country_by_value)(df_country['country_normalized'], df_country['country_matched_by_key'])"
   ]
  },
  {
   "cell_type": "code",
   "execution_count": null,
   "id": "7cfa8436",
   "metadata": {},
   "outputs": [],
   "source": [
    "# Making slight adjustments for possible mis-classifications by calling the function check_overlapping_country_names\n",
    "# Saving the results in column country_overlapping_names\n",
    "df_country['country_overlapping_names'] = np.vectorize(check_overlapping_country_names)(df_country['country_normalized'], df_country['country_matched_value'])"
   ]
  },
  {
   "cell_type": "code",
   "execution_count": null,
   "id": "7ebd4cfe",
   "metadata": {},
   "outputs": [],
   "source": [
    "# Getting the ISO code of each country and saving it in the ISO column\n",
    "df_country['ISO'] = np.vectorize(get_iso)(df_country['country_overlapping_names'])"
   ]
  },
  {
   "cell_type": "code",
   "execution_count": null,
   "id": "f4a57aec",
   "metadata": {},
   "outputs": [],
   "source": [
    "# Getting the sub_continent of each country and saving it in the sub_continent column\n",
    "df_country['sub_continent'] = np.vectorize(classify_country_as_sub_continent)(df_country['ISO'])"
   ]
  },
  {
   "cell_type": "code",
   "execution_count": null,
   "id": "4b5b78b3",
   "metadata": {},
   "outputs": [],
   "source": [
    "# Getting the continent of each country and saving it in the continent column\n",
    "df_country['continent'] = np.vectorize(classify_country_as_continent)(df_country['sub_continent'])"
   ]
  },
  {
   "cell_type": "code",
   "execution_count": null,
   "id": "8d980933",
   "metadata": {},
   "outputs": [],
   "source": [
    "# Getting the average income of each country and saving it in the avg_column\n",
    "df_country['avg_income'] = np.vectorize(get_avg_income)(df_country['ISO'])"
   ]
  },
  {
   "cell_type": "code",
   "execution_count": null,
   "id": "54d91d48",
   "metadata": {},
   "outputs": [],
   "source": [
    "# Dropping all the extra columns we created that are needed for the final dataset\n",
    "df_country = df_country.drop(['country_normalized', 'country_matched_by_key', 'country_matched_value'], axis = 1)"
   ]
  },
  {
   "cell_type": "code",
   "execution_count": null,
   "id": "7c1ff783",
   "metadata": {},
   "outputs": [],
   "source": [
    "# Renaming column with the normalizedc country name.\n",
    "df_country = df_country.rename(columns={'country_overlapping_names':'country_normalized'})"
   ]
  },
  {
   "cell_type": "code",
   "execution_count": null,
   "id": "e8276e71",
   "metadata": {},
   "outputs": [],
   "source": [
    "# Printing the list of countries that were not categorized. Usually gibberish.\n",
    "# If there is a name that should have been detected, add it to the dictionnary under the right country.\n",
    "unclassified_countries = df_country.loc[df_country['country_normalized'] == \"None\"]\n",
    "unclassified_countries_list = unclassified_countries['country'].tolist()\n",
    "print(\"There are a total of\", len(unclassified_countries_list), \" different unclassified Responses and \", \n",
    "      len(unclassified_countries_list), \" total unclassified responses...\")\n",
    "print(unclassified_countries_list)"
   ]
  },
  {
   "cell_type": "code",
   "execution_count": null,
   "id": "9b50d676",
   "metadata": {},
   "outputs": [],
   "source": [
    "# Saving our dataframe to a csv file (this can be to another format as well such as SAS, excel).\n",
    "# This will be in the same directory as the code and inital dataset.\n",
    "df_country.to_csv('country_sorted.csv')"
   ]
  },
  {
   "cell_type": "code",
   "execution_count": null,
   "id": "17d92c37",
   "metadata": {},
   "outputs": [],
   "source": []
  }
 ],
 "metadata": {
  "kernelspec": {
   "display_name": "Python 3 (ipykernel)",
   "language": "python",
   "name": "python3"
  },
  "language_info": {
   "codemirror_mode": {
    "name": "ipython",
    "version": 3
   },
   "file_extension": ".py",
   "mimetype": "text/x-python",
   "name": "python",
   "nbconvert_exporter": "python",
   "pygments_lexer": "ipython3",
   "version": "3.7.4"
  }
 },
 "nbformat": 4,
 "nbformat_minor": 5
}
